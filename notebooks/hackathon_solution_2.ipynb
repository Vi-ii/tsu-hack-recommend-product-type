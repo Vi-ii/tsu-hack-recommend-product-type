{
  "cells": [
    {
      "cell_type": "markdown",
      "metadata": {
        "id": "P_z7O62lO0R_"
      },
      "source": [
        "# 1. Описание задачи рекоммендации\n",
        "\n",
        "В дополнение к основной задаче поставлена другая задача - нужно создать список типов, например из десяти доступных, из которого селлер выберет подходящий.\n"
      ]
    },
    {
      "cell_type": "markdown",
      "source": [
        "# 2. Загрузка и подготовка данных."
      ],
      "metadata": {
        "id": "F91wv-QeiHJs"
      }
    },
    {
      "cell_type": "code",
      "execution_count": null,
      "metadata": {
        "id": "DjLL_N3MO0SB"
      },
      "outputs": [],
      "source": [
        "import numpy as np\n",
        "import pandas as pd\n",
        "from sklearn.feature_extraction.text import TfidfVectorizer\n",
        "from sklearn import metrics\n",
        "from sklearn.metrics import roc_auc_score\n",
        "from sklearn.metrics import classification_report\n",
        "import seaborn as sns\n",
        "import matplotlib.pyplot as plt\n",
        "from catboost import CatBoostClassifier\n",
        "from sklearn.preprocessing import LabelEncoder, StandardScaler"
      ]
    },
    {
      "cell_type": "code",
      "execution_count": null,
      "metadata": {
        "id": "bIqvCqaaO0SE",
        "outputId": "7be824c7-4d72-43cf-93ef-760c43c05081"
      },
      "outputs": [
        {
          "name": "stdout",
          "output_type": "stream",
          "text": [
            "data_train: (763013, 8)\n",
            "data_test: (190754, 8)\n"
          ]
        }
      ],
      "source": [
        "data_test = pd.read_parquet('hackaton_test_types_recom.parquet')\n",
        "data_train = pd.read_parquet('hackaton_train_types_recom.parquet')\n",
        "print(f'data_train: {data_train.shape}')\n",
        "print(f'data_test: {data_test.shape}')"
      ]
    },
    {
      "cell_type": "code",
      "execution_count": null,
      "metadata": {
        "id": "3yjfuAjnO0SF",
        "outputId": "f36fffc8-dac9-4f56-ddeb-b817300858ab"
      },
      "outputs": [
        {
          "data": {
            "text/html": [
              "<div>\n",
              "<style scoped>\n",
              "    .dataframe tbody tr th:only-of-type {\n",
              "        vertical-align: middle;\n",
              "    }\n",
              "\n",
              "    .dataframe tbody tr th {\n",
              "        vertical-align: top;\n",
              "    }\n",
              "\n",
              "    .dataframe thead th {\n",
              "        text-align: right;\n",
              "    }\n",
              "</style>\n",
              "<table border=\"1\" class=\"dataframe\">\n",
              "  <thead>\n",
              "    <tr style=\"text-align: right;\">\n",
              "      <th></th>\n",
              "      <th>main_photo</th>\n",
              "      <th>name</th>\n",
              "      <th>type</th>\n",
              "      <th>category_l2</th>\n",
              "      <th>category_l4</th>\n",
              "      <th>is_markup</th>\n",
              "      <th>target</th>\n",
              "      <th>stratify_column</th>\n",
              "    </tr>\n",
              "  </thead>\n",
              "  <tbody>\n",
              "    <tr>\n",
              "      <th>6762112</th>\n",
              "      <td>https://cdn1.ozone.ru/s3/multimedia-d/65647598...</td>\n",
              "      <td>Фильтр АКПП HYUNDAI GETZ 02-10/ELANTRA 1.8 00-...</td>\n",
              "      <td>Ремкомплект двигателя мототехники</td>\n",
              "      <td>None</td>\n",
              "      <td>None</td>\n",
              "      <td>False</td>\n",
              "      <td>0</td>\n",
              "      <td>nan_False_0</td>\n",
              "    </tr>\n",
              "    <tr>\n",
              "      <th>2248350</th>\n",
              "      <td>https://cdn1.ozone.ru/s3/multimedia-r/67002690...</td>\n",
              "      <td>Масло оливковое Urzante Light рафинированное, ...</td>\n",
              "      <td>Растительное масло</td>\n",
              "      <td>None</td>\n",
              "      <td>None</td>\n",
              "      <td>False</td>\n",
              "      <td>1</td>\n",
              "      <td>nan_False_1</td>\n",
              "    </tr>\n",
              "    <tr>\n",
              "      <th>2940012</th>\n",
              "      <td>https://cdn1.ozone.ru/multimedia/1026904772.jpg</td>\n",
              "      <td>Свитшот Reebok Cl A Crew</td>\n",
              "      <td>Оповещатель</td>\n",
              "      <td>None</td>\n",
              "      <td>None</td>\n",
              "      <td>False</td>\n",
              "      <td>0</td>\n",
              "      <td>nan_False_0</td>\n",
              "    </tr>\n",
              "    <tr>\n",
              "      <th>7671340</th>\n",
              "      <td>https://cdn1.ozone.ru/s3/multimedia-1-r/700080...</td>\n",
              "      <td>Клин съемник для снятия пластика в авто</td>\n",
              "      <td>Съемник</td>\n",
              "      <td>None</td>\n",
              "      <td>None</td>\n",
              "      <td>False</td>\n",
              "      <td>1</td>\n",
              "      <td>nan_False_1</td>\n",
              "    </tr>\n",
              "    <tr>\n",
              "      <th>795605</th>\n",
              "      <td>https://cdn1.ozone.ru/s3/multimedia-1-u/712028...</td>\n",
              "      <td>HXD Пыльник</td>\n",
              "      <td>Олимпийка</td>\n",
              "      <td>None</td>\n",
              "      <td>None</td>\n",
              "      <td>False</td>\n",
              "      <td>0</td>\n",
              "      <td>nan_False_0</td>\n",
              "    </tr>\n",
              "  </tbody>\n",
              "</table>\n",
              "</div>"
            ],
            "text/plain": [
              "                                                main_photo  \\\n",
              "6762112  https://cdn1.ozone.ru/s3/multimedia-d/65647598...   \n",
              "2248350  https://cdn1.ozone.ru/s3/multimedia-r/67002690...   \n",
              "2940012    https://cdn1.ozone.ru/multimedia/1026904772.jpg   \n",
              "7671340  https://cdn1.ozone.ru/s3/multimedia-1-r/700080...   \n",
              "795605   https://cdn1.ozone.ru/s3/multimedia-1-u/712028...   \n",
              "\n",
              "                                                      name  \\\n",
              "6762112  Фильтр АКПП HYUNDAI GETZ 02-10/ELANTRA 1.8 00-...   \n",
              "2248350  Масло оливковое Urzante Light рафинированное, ...   \n",
              "2940012                           Свитшот Reebok Cl A Crew   \n",
              "7671340            Клин съемник для снятия пластика в авто   \n",
              "795605                                         HXD Пыльник   \n",
              "\n",
              "                                      type category_l2 category_l4  is_markup  \\\n",
              "6762112  Ремкомплект двигателя мототехники        None        None      False   \n",
              "2248350                 Растительное масло        None        None      False   \n",
              "2940012                        Оповещатель        None        None      False   \n",
              "7671340                            Съемник        None        None      False   \n",
              "795605                           Олимпийка        None        None      False   \n",
              "\n",
              "         target stratify_column  \n",
              "6762112       0     nan_False_0  \n",
              "2248350       1     nan_False_1  \n",
              "2940012       0     nan_False_0  \n",
              "7671340       1     nan_False_1  \n",
              "795605        0     nan_False_0  "
            ]
          },
          "execution_count": 3,
          "metadata": {},
          "output_type": "execute_result"
        }
      ],
      "source": [
        "data_train.head()"
      ]
    },
    {
      "cell_type": "code",
      "execution_count": null,
      "metadata": {
        "id": "KKrlbwqpO0SH",
        "outputId": "d12b8ac9-fcfb-4f21-f2f2-e9ad0c55f75a"
      },
      "outputs": [
        {
          "name": "stdout",
          "output_type": "stream",
          "text": [
            "data_train: (763013, 6)\n",
            "data_test: (190754, 6)\n"
          ]
        }
      ],
      "source": [
        "data_test = data_test.drop(labels=['main_photo', 'stratify_column'], axis=1).reset_index(drop=True)\n",
        "data_train = data_train.drop(labels=['main_photo', 'stratify_column'], axis=1).reset_index(drop=True)\n",
        "print(f'data_train: {data_train.shape}')\n",
        "print(f'data_test: {data_test.shape}')"
      ]
    },
    {
      "cell_type": "code",
      "execution_count": null,
      "metadata": {
        "id": "ImIgZFNJO0SJ"
      },
      "outputs": [],
      "source": [
        "data_train['is_markup'] = data_train['is_markup'].astype(int)\n",
        "data_test['is_markup'] = data_test['is_markup'].astype(int)"
      ]
    },
    {
      "cell_type": "markdown",
      "metadata": {
        "id": "wGYHFKR_O0SK"
      },
      "source": [
        "---"
      ]
    },
    {
      "cell_type": "markdown",
      "metadata": {
        "id": "QMXwojz2O0SL"
      },
      "source": [
        "#### 1 вариант - удалить пропуски"
      ]
    },
    {
      "cell_type": "code",
      "execution_count": null,
      "metadata": {
        "id": "IH8ivL9oO0SN"
      },
      "outputs": [],
      "source": [
        "# Функция для удаления пропусков / аномалий\n",
        "def remove__missing(df, column, errors):\n",
        "    cleaned = df[column].astype(str).str.strip().str.lower()\n",
        "    return df[~cleaned.isin(errors)].reset_index(drop=True)"
      ]
    },
    {
      "cell_type": "code",
      "execution_count": null,
      "metadata": {
        "id": "71YRVBmXO0SO",
        "outputId": "946a57a8-f102-4db6-a56a-99614724cea4"
      },
      "outputs": [
        {
          "name": "stdout",
          "output_type": "stream",
          "text": [
            "data_train: (442365, 6) - теряем 42.02% информации\n",
            "data_test:  (110598, 6) - теряем 42.02% информации\n"
          ]
        }
      ],
      "source": [
        "# Применение:\n",
        "errors = ['0', '1', 'unknown', 'none', 'null', 'nan', 'n/a', 'na', 'missing', '?', ' ', '-', '', '...', 'неизвестно']\n",
        "before_train, before_test = data_train.shape[0], data_test.shape[0]\n",
        "for category in ['name', 'type', 'category_l2', 'category_l4']:\n",
        "    data_train = remove__missing(data_train, category, errors)\n",
        "    data_test = remove__missing(data_test, category, errors)\n",
        "print(f'data_train: {data_train.shape} - теряем {((before_train - data_train.shape[0]) / before_train) * 100:.2f}% информации')\n",
        "print(f'data_test:  {data_test.shape} - теряем {((before_test - data_test.shape[0]) / before_test) * 100:.2f}% информации')"
      ]
    },
    {
      "cell_type": "code",
      "execution_count": null,
      "metadata": {
        "id": "yuEP_aFjO0SR",
        "outputId": "7e488105-cbd6-4994-c9a9-fd57a27c140d"
      },
      "outputs": [
        {
          "data": {
            "text/html": [
              "<div>\n",
              "<style scoped>\n",
              "    .dataframe tbody tr th:only-of-type {\n",
              "        vertical-align: middle;\n",
              "    }\n",
              "\n",
              "    .dataframe tbody tr th {\n",
              "        vertical-align: top;\n",
              "    }\n",
              "\n",
              "    .dataframe thead th {\n",
              "        text-align: right;\n",
              "    }\n",
              "</style>\n",
              "<table border=\"1\" class=\"dataframe\">\n",
              "  <thead>\n",
              "    <tr style=\"text-align: right;\">\n",
              "      <th></th>\n",
              "      <th>name</th>\n",
              "      <th>type</th>\n",
              "      <th>category_l2</th>\n",
              "      <th>category_l4</th>\n",
              "      <th>is_markup</th>\n",
              "      <th>target</th>\n",
              "    </tr>\n",
              "  </thead>\n",
              "  <tbody>\n",
              "    <tr>\n",
              "      <th>0</th>\n",
              "      <td>Кружка латте керамическая большая для чая и ко...</td>\n",
              "      <td>Кружка</td>\n",
              "      <td>Дом и сад</td>\n",
              "      <td>Кружка</td>\n",
              "      <td>0</td>\n",
              "      <td>1</td>\n",
              "    </tr>\n",
              "    <tr>\n",
              "      <th>1</th>\n",
              "      <td>Угольник-переходник ROMMER ВПр-НР, 15х1_2, из ...</td>\n",
              "      <td>Удлинитель сантехнический</td>\n",
              "      <td>Строительство и ремонт</td>\n",
              "      <td>Фитинг сантехнический</td>\n",
              "      <td>1</td>\n",
              "      <td>1</td>\n",
              "    </tr>\n",
              "  </tbody>\n",
              "</table>\n",
              "</div>"
            ],
            "text/plain": [
              "                                                name  \\\n",
              "0  Кружка латте керамическая большая для чая и ко...   \n",
              "1  Угольник-переходник ROMMER ВПр-НР, 15х1_2, из ...   \n",
              "\n",
              "                        type             category_l2            category_l4  \\\n",
              "0                     Кружка               Дом и сад                 Кружка   \n",
              "1  Удлинитель сантехнический  Строительство и ремонт  Фитинг сантехнический   \n",
              "\n",
              "   is_markup  target  \n",
              "0          0       1  \n",
              "1          1       1  "
            ]
          },
          "execution_count": 8,
          "metadata": {},
          "output_type": "execute_result"
        }
      ],
      "source": [
        "data_test.head(2)"
      ]
    },
    {
      "cell_type": "code",
      "execution_count": null,
      "metadata": {
        "id": "QyvUsDO_O0SS",
        "outputId": "b53d0218-3814-4164-db3d-b4f850d81a1f"
      },
      "outputs": [
        {
          "data": {
            "text/html": [
              "<div>\n",
              "<style scoped>\n",
              "    .dataframe tbody tr th:only-of-type {\n",
              "        vertical-align: middle;\n",
              "    }\n",
              "\n",
              "    .dataframe tbody tr th {\n",
              "        vertical-align: top;\n",
              "    }\n",
              "\n",
              "    .dataframe thead th {\n",
              "        text-align: right;\n",
              "    }\n",
              "</style>\n",
              "<table border=\"1\" class=\"dataframe\">\n",
              "  <thead>\n",
              "    <tr style=\"text-align: right;\">\n",
              "      <th></th>\n",
              "      <th>name</th>\n",
              "      <th>type</th>\n",
              "      <th>category_l2</th>\n",
              "      <th>category_l4</th>\n",
              "      <th>is_markup</th>\n",
              "      <th>target</th>\n",
              "    </tr>\n",
              "  </thead>\n",
              "  <tbody>\n",
              "    <tr>\n",
              "      <th>0</th>\n",
              "      <td>Кроссовки Air Jordan JT 2 Баскетбольная обувь ...</td>\n",
              "      <td>Моноласта</td>\n",
              "      <td>Обувь</td>\n",
              "      <td>Кроссовки</td>\n",
              "      <td>1</td>\n",
              "      <td>0</td>\n",
              "    </tr>\n",
              "    <tr>\n",
              "      <th>1</th>\n",
              "      <td>Подвесной держатель для медалей</td>\n",
              "      <td>Стеллаж для игрушек</td>\n",
              "      <td>Дом и сад</td>\n",
              "      <td>Ящик для игрушек</td>\n",
              "      <td>1</td>\n",
              "      <td>0</td>\n",
              "    </tr>\n",
              "  </tbody>\n",
              "</table>\n",
              "</div>"
            ],
            "text/plain": [
              "                                                name                 type  \\\n",
              "0  Кроссовки Air Jordan JT 2 Баскетбольная обувь ...            Моноласта   \n",
              "1                    Подвесной держатель для медалей  Стеллаж для игрушек   \n",
              "\n",
              "  category_l2       category_l4  is_markup  target  \n",
              "0       Обувь         Кроссовки          1       0  \n",
              "1   Дом и сад  Ящик для игрушек          1       0  "
            ]
          },
          "execution_count": 9,
          "metadata": {},
          "output_type": "execute_result"
        }
      ],
      "source": [
        "data_train.head(2)"
      ]
    },
    {
      "cell_type": "markdown",
      "metadata": {
        "id": "19H_0tOcO0ST"
      },
      "source": [
        "---"
      ]
    },
    {
      "cell_type": "markdown",
      "metadata": {
        "id": "vMpTQ5VgO0SU"
      },
      "source": [
        "#### 2 вариант - заменить на 'unknown'"
      ]
    },
    {
      "cell_type": "code",
      "execution_count": null,
      "metadata": {
        "id": "8CMbbNPRO0SV"
      },
      "outputs": [],
      "source": [
        "# # Функция для замены пропусков / аномалий на 'unknown'\n",
        "# def replace__missing(df, column, errors):\n",
        "#     df[column] = df[column].astype(str).str.strip().str.lower().apply(lambda x: 'unknown' if x in errors else x)\n",
        "#     return df"
      ]
    },
    {
      "cell_type": "code",
      "execution_count": null,
      "metadata": {
        "id": "KvMa4vWpO0SV"
      },
      "outputs": [],
      "source": [
        "# # Применение:\n",
        "# errors = ['0', '1', 'unknown', 'none', 'null', 'nan', 'n/a', 'na', 'missing', '?', ' ', '-', '', '...', 'неизвестно']\n",
        "# for category in ['name', 'type', 'category_l2', 'category_l4']:\n",
        "#     data_train = replace__missing(data_train, category, errors)\n",
        "#     data_test = replace__missing(data_test, category, errors)\n",
        "# print(f'data_train: {data_train.shape}')\n",
        "# print(f'data_test:  {data_test.shape}')"
      ]
    },
    {
      "cell_type": "code",
      "execution_count": null,
      "metadata": {
        "id": "DFn0nT7rO0SW"
      },
      "outputs": [],
      "source": [
        "# data_train.head(2)"
      ]
    },
    {
      "cell_type": "code",
      "execution_count": null,
      "metadata": {
        "id": "5nXsMol5O0SW"
      },
      "outputs": [],
      "source": [
        "# data_test.head(2)"
      ]
    },
    {
      "cell_type": "markdown",
      "metadata": {
        "id": "_kDqTNiNO0SX"
      },
      "source": [
        "---"
      ]
    },
    {
      "cell_type": "code",
      "execution_count": null,
      "metadata": {
        "id": "Y2eMvlehO0SX",
        "outputId": "6aeb04f6-a80e-4f3d-fa8a-3795bd44e9ca"
      },
      "outputs": [
        {
          "name": "stdout",
          "output_type": "stream",
          "text": [
            "X_train: (442365, 5)\n",
            "X_test:  (110598, 5)\n",
            "y_train: (442365,)\n",
            "y_test:  (110598,)\n"
          ]
        }
      ],
      "source": [
        "y_train = data_train['target']\n",
        "X_train = data_train.drop(columns=['target'])\n",
        "y_test = data_test['target']\n",
        "X_test = data_test.drop(columns=['target'])\n",
        "print(f'X_train: {X_train.shape}')\n",
        "print(f'X_test:  {X_test.shape}')\n",
        "print(f'y_train: {y_train.shape}')\n",
        "print(f'y_test:  {y_test.shape}')"
      ]
    },
    {
      "cell_type": "code",
      "execution_count": null,
      "metadata": {
        "id": "R0NMsM6OO0SX"
      },
      "outputs": [],
      "source": [
        "# Создаём объект TF-IDF векторизатора\n",
        "# TF-IDF по name → числовая матрица\n",
        "# - max_features=500 — используем только 500 наиболее важных слов/фраз (признаков),\n",
        "# - ngram_range=(1, 2) — учитываем отдельные слова (1) и пары слов (2).\n",
        "vectorizer = TfidfVectorizer(max_features=500, ngram_range=(1, 2))\n",
        "\n",
        "# Обучаем векторизатор на столбце 'name' и преобразуем его в числовую матрицу признаков - она будет спарс-матрица с кучей ноликов\n",
        "# Каждая строка — это один объект (товар), каждая колонка — один признак (слово или пара слов)\n",
        "text_train = vectorizer.fit_transform(X_train['name'])\n",
        "text_test = vectorizer.transform(X_test['name'])"
      ]
    },
    {
      "cell_type": "code",
      "execution_count": null,
      "metadata": {
        "id": "r-gnze_IO0SZ"
      },
      "outputs": [],
      "source": [
        "# CatBoost не принимает sparse матрицы, а TF-IDF — sparse\n",
        "# TF-IDF в DataFrame\n",
        "text_train_df = pd.DataFrame(text_train.toarray(), columns=[f'tfidf_{i}' for i in range(text_train.shape[1])])\n",
        "text_test_df = pd.DataFrame(text_test.toarray(), columns=[f'tfidf_{i}' for i in range(text_test.shape[1])])"
      ]
    },
    {
      "cell_type": "code",
      "execution_count": null,
      "metadata": {
        "id": "0GFfbH62O0SZ"
      },
      "outputs": [],
      "source": [
        "# Сброс индексов\n",
        "text_train_df.reset_index(drop=True, inplace=True)\n",
        "text_test_df.reset_index(drop=True, inplace=True)\n",
        "X_train = X_train.drop(labels='name', axis=1).reset_index(drop=True)\n",
        "X_test = X_test.drop(labels='name', axis=1).reset_index(drop=True)\n",
        "\n",
        "# Объединение\n",
        "X_train_full = pd.concat([text_train_df, X_train], axis=1)\n",
        "X_test_full = pd.concat([text_test_df, X_test], axis=1)"
      ]
    },
    {
      "cell_type": "code",
      "execution_count": null,
      "metadata": {
        "id": "6wAd5N-8O0SZ"
      },
      "outputs": [],
      "source": [
        "# будут потом для теста качества с новыми фичами\n",
        "X_train_full_new = X_train_full.copy()\n",
        "X_test_full_new = X_test_full.copy()"
      ]
    },
    {
      "cell_type": "code",
      "execution_count": null,
      "metadata": {
        "id": "7-1pRV0NO0Sa",
        "outputId": "f3f21b65-bf7b-453a-9068-d42bc326e5ac"
      },
      "outputs": [
        {
          "data": {
            "text/html": [
              "<div>\n",
              "<style scoped>\n",
              "    .dataframe tbody tr th:only-of-type {\n",
              "        vertical-align: middle;\n",
              "    }\n",
              "\n",
              "    .dataframe tbody tr th {\n",
              "        vertical-align: top;\n",
              "    }\n",
              "\n",
              "    .dataframe thead th {\n",
              "        text-align: right;\n",
              "    }\n",
              "</style>\n",
              "<table border=\"1\" class=\"dataframe\">\n",
              "  <thead>\n",
              "    <tr style=\"text-align: right;\">\n",
              "      <th></th>\n",
              "      <th>tfidf_0</th>\n",
              "      <th>tfidf_1</th>\n",
              "      <th>tfidf_2</th>\n",
              "      <th>tfidf_3</th>\n",
              "      <th>tfidf_4</th>\n",
              "      <th>tfidf_5</th>\n",
              "      <th>tfidf_6</th>\n",
              "      <th>tfidf_7</th>\n",
              "      <th>tfidf_8</th>\n",
              "      <th>tfidf_9</th>\n",
              "      <th>...</th>\n",
              "      <th>tfidf_494</th>\n",
              "      <th>tfidf_495</th>\n",
              "      <th>tfidf_496</th>\n",
              "      <th>tfidf_497</th>\n",
              "      <th>tfidf_498</th>\n",
              "      <th>tfidf_499</th>\n",
              "      <th>type</th>\n",
              "      <th>category_l2</th>\n",
              "      <th>category_l4</th>\n",
              "      <th>is_markup</th>\n",
              "    </tr>\n",
              "  </thead>\n",
              "  <tbody>\n",
              "    <tr>\n",
              "      <th>0</th>\n",
              "      <td>0.0</td>\n",
              "      <td>0.0</td>\n",
              "      <td>0.0</td>\n",
              "      <td>0.0</td>\n",
              "      <td>0.0</td>\n",
              "      <td>0.0</td>\n",
              "      <td>0.0</td>\n",
              "      <td>0.0</td>\n",
              "      <td>0.0</td>\n",
              "      <td>0.0</td>\n",
              "      <td>...</td>\n",
              "      <td>0.0</td>\n",
              "      <td>0.0</td>\n",
              "      <td>0.0</td>\n",
              "      <td>0.0</td>\n",
              "      <td>0.0</td>\n",
              "      <td>0.0</td>\n",
              "      <td>Моноласта</td>\n",
              "      <td>Обувь</td>\n",
              "      <td>Кроссовки</td>\n",
              "      <td>1</td>\n",
              "    </tr>\n",
              "    <tr>\n",
              "      <th>1</th>\n",
              "      <td>0.0</td>\n",
              "      <td>0.0</td>\n",
              "      <td>0.0</td>\n",
              "      <td>0.0</td>\n",
              "      <td>0.0</td>\n",
              "      <td>0.0</td>\n",
              "      <td>0.0</td>\n",
              "      <td>0.0</td>\n",
              "      <td>0.0</td>\n",
              "      <td>0.0</td>\n",
              "      <td>...</td>\n",
              "      <td>0.0</td>\n",
              "      <td>0.0</td>\n",
              "      <td>0.0</td>\n",
              "      <td>0.0</td>\n",
              "      <td>0.0</td>\n",
              "      <td>0.0</td>\n",
              "      <td>Стеллаж для игрушек</td>\n",
              "      <td>Дом и сад</td>\n",
              "      <td>Ящик для игрушек</td>\n",
              "      <td>1</td>\n",
              "    </tr>\n",
              "    <tr>\n",
              "      <th>2</th>\n",
              "      <td>0.0</td>\n",
              "      <td>0.0</td>\n",
              "      <td>0.0</td>\n",
              "      <td>0.0</td>\n",
              "      <td>0.0</td>\n",
              "      <td>0.0</td>\n",
              "      <td>0.0</td>\n",
              "      <td>0.0</td>\n",
              "      <td>0.0</td>\n",
              "      <td>0.0</td>\n",
              "      <td>...</td>\n",
              "      <td>0.0</td>\n",
              "      <td>0.0</td>\n",
              "      <td>0.0</td>\n",
              "      <td>0.0</td>\n",
              "      <td>0.0</td>\n",
              "      <td>0.0</td>\n",
              "      <td>Кроссовки</td>\n",
              "      <td>Обувь</td>\n",
              "      <td>Кроссовки</td>\n",
              "      <td>0</td>\n",
              "    </tr>\n",
              "    <tr>\n",
              "      <th>3</th>\n",
              "      <td>0.0</td>\n",
              "      <td>0.0</td>\n",
              "      <td>0.0</td>\n",
              "      <td>0.0</td>\n",
              "      <td>0.0</td>\n",
              "      <td>0.0</td>\n",
              "      <td>0.0</td>\n",
              "      <td>0.0</td>\n",
              "      <td>0.0</td>\n",
              "      <td>0.0</td>\n",
              "      <td>...</td>\n",
              "      <td>0.0</td>\n",
              "      <td>0.0</td>\n",
              "      <td>0.0</td>\n",
              "      <td>0.0</td>\n",
              "      <td>0.0</td>\n",
              "      <td>0.0</td>\n",
              "      <td>Набор для приготовления настойки</td>\n",
              "      <td>Продукты питания</td>\n",
              "      <td>Смесь приправ, специй и трав</td>\n",
              "      <td>1</td>\n",
              "    </tr>\n",
              "    <tr>\n",
              "      <th>4</th>\n",
              "      <td>0.0</td>\n",
              "      <td>0.0</td>\n",
              "      <td>0.0</td>\n",
              "      <td>0.0</td>\n",
              "      <td>0.0</td>\n",
              "      <td>0.0</td>\n",
              "      <td>0.0</td>\n",
              "      <td>0.0</td>\n",
              "      <td>0.0</td>\n",
              "      <td>0.0</td>\n",
              "      <td>...</td>\n",
              "      <td>0.0</td>\n",
              "      <td>0.0</td>\n",
              "      <td>0.0</td>\n",
              "      <td>0.0</td>\n",
              "      <td>0.0</td>\n",
              "      <td>0.0</td>\n",
              "      <td>Багажный бокс (автобокс)</td>\n",
              "      <td>Автотовары</td>\n",
              "      <td>Багажный бокс (автобокс)</td>\n",
              "      <td>1</td>\n",
              "    </tr>\n",
              "  </tbody>\n",
              "</table>\n",
              "<p>5 rows × 504 columns</p>\n",
              "</div>"
            ],
            "text/plain": [
              "   tfidf_0  tfidf_1  tfidf_2  tfidf_3  tfidf_4  tfidf_5  tfidf_6  tfidf_7  \\\n",
              "0      0.0      0.0      0.0      0.0      0.0      0.0      0.0      0.0   \n",
              "1      0.0      0.0      0.0      0.0      0.0      0.0      0.0      0.0   \n",
              "2      0.0      0.0      0.0      0.0      0.0      0.0      0.0      0.0   \n",
              "3      0.0      0.0      0.0      0.0      0.0      0.0      0.0      0.0   \n",
              "4      0.0      0.0      0.0      0.0      0.0      0.0      0.0      0.0   \n",
              "\n",
              "   tfidf_8  tfidf_9  ...  tfidf_494  tfidf_495  tfidf_496  tfidf_497  \\\n",
              "0      0.0      0.0  ...        0.0        0.0        0.0        0.0   \n",
              "1      0.0      0.0  ...        0.0        0.0        0.0        0.0   \n",
              "2      0.0      0.0  ...        0.0        0.0        0.0        0.0   \n",
              "3      0.0      0.0  ...        0.0        0.0        0.0        0.0   \n",
              "4      0.0      0.0  ...        0.0        0.0        0.0        0.0   \n",
              "\n",
              "   tfidf_498  tfidf_499                              type       category_l2  \\\n",
              "0        0.0        0.0                         Моноласта             Обувь   \n",
              "1        0.0        0.0               Стеллаж для игрушек         Дом и сад   \n",
              "2        0.0        0.0                         Кроссовки             Обувь   \n",
              "3        0.0        0.0  Набор для приготовления настойки  Продукты питания   \n",
              "4        0.0        0.0          Багажный бокс (автобокс)        Автотовары   \n",
              "\n",
              "                    category_l4  is_markup  \n",
              "0                     Кроссовки          1  \n",
              "1              Ящик для игрушек          1  \n",
              "2                     Кроссовки          0  \n",
              "3  Смесь приправ, специй и трав          1  \n",
              "4      Багажный бокс (автобокс)          1  \n",
              "\n",
              "[5 rows x 504 columns]"
            ]
          },
          "execution_count": 19,
          "metadata": {},
          "output_type": "execute_result"
        }
      ],
      "source": [
        "X_train_full.head()"
      ]
    },
    {
      "cell_type": "code",
      "execution_count": null,
      "metadata": {
        "id": "uwhJYOUUO0Sa",
        "outputId": "a8f0393f-8f36-4fe5-b9a2-4a5953a29a7a"
      },
      "outputs": [
        {
          "name": "stdout",
          "output_type": "stream",
          "text": [
            "X_train_part: (353892, 504)\n",
            "X_val:  (88473, 504)\n",
            "y_train_part: (353892,)\n",
            "y_val:  (88473,)\n"
          ]
        }
      ],
      "source": [
        "# разделение тренировочных данные на тренировочную и валидационную\n",
        "from sklearn.model_selection import train_test_split\n",
        "\n",
        "X_train_part, X_val, y_train_part, y_val = train_test_split(\n",
        "    X_train_full, y_train, test_size=0.2, random_state=42, stratify=y_train\n",
        ")\n",
        "\n",
        "print(f'X_train_part: {X_train_part.shape}')\n",
        "print(f'X_val:  {X_val.shape}')\n",
        "print(f'y_train_part: {y_train_part.shape}')\n",
        "print(f'y_val:  {y_val.shape}')"
      ]
    },
    {
      "cell_type": "code",
      "execution_count": null,
      "metadata": {
        "id": "UlUh4s6jO0Sb"
      },
      "outputs": [],
      "source": [
        "# Cat_boost сам кодирует категории\n",
        "cat_features = ['type', 'category_l2', 'category_l4']\n",
        "\n",
        "from catboost import CatBoostClassifier\n",
        "\n",
        "model = CatBoostClassifier(\n",
        "    iterations=300,         # число деревьев (иттераций бустинга)\n",
        "    learning_rate=0.1,      # шаг обучения\n",
        "    depth=6,                # максимальная глубина деревьев\n",
        "    verbose=100,             # вывод информации каждые 100 итераций\n",
        "    loss_function='Logloss',  # функция потерь для бинарной классификации\n",
        "    eval_metric='AUC'         # метрика качества для валидации — ROC AUC\n",
        ")"
      ]
    },
    {
      "cell_type": "code",
      "execution_count": null,
      "metadata": {
        "id": "C2aoVUvCO0Sb",
        "outputId": "232e7430-b9a1-4c44-9c16-4d2b0a9331eb"
      },
      "outputs": [
        {
          "name": "stdout",
          "output_type": "stream",
          "text": [
            "0:\ttest: 0.9001061\tbest: 0.9001061 (0)\ttotal: 433ms\tremaining: 2m 9s\n",
            "100:\ttest: 0.9851687\tbest: 0.9851687 (100)\ttotal: 18.5s\tremaining: 36.5s\n",
            "200:\ttest: 0.9855628\tbest: 0.9855628 (200)\ttotal: 35.5s\tremaining: 17.5s\n",
            "299:\ttest: 0.9857263\tbest: 0.9857263 (299)\ttotal: 54.4s\tremaining: 0us\n",
            "\n",
            "bestTest = 0.9857262625\n",
            "bestIteration = 299\n",
            "\n"
          ]
        },
        {
          "data": {
            "text/plain": [
              "<catboost.core.CatBoostClassifier at 0x125f45bb0>"
            ]
          },
          "execution_count": 22,
          "metadata": {},
          "output_type": "execute_result"
        }
      ],
      "source": [
        "model.fit(\n",
        "    X_train_part,       # матрица признаков\n",
        "    y_train_part,            # целевой признак (0/1)\n",
        "    cat_features=cat_features,         # категориальные признаки\n",
        "    eval_set=(X_val, y_val)     # валидационный набор для контроля переобучения и оценки ROC AUC\n",
        ")"
      ]
    },
    {
      "cell_type": "markdown",
      "metadata": {
        "id": "PXJI2ChuO0Sc"
      },
      "source": [
        "Лучшая AUC на валидации: 0.9857"
      ]
    },
    {
      "cell_type": "code",
      "execution_count": null,
      "metadata": {
        "id": "RKuZZ6G6O0Sc"
      },
      "outputs": [],
      "source": [
        "# Предсказание вероятности класса 1 (target = 1)\n",
        "preds_proba = model.predict_proba(X_test_full)[:, 1]\n",
        "preds = model.predict(X_test_full)"
      ]
    },
    {
      "cell_type": "code",
      "execution_count": null,
      "metadata": {
        "id": "GIxl_i1-O0Sc",
        "outputId": "96e8a160-feb1-4a14-e380-c2b2a4a0b427"
      },
      "outputs": [
        {
          "name": "stdout",
          "output_type": "stream",
          "text": [
            "ROC-AUC на тесте: 0.9860\n",
            "\n",
            "              precision    recall  f1-score   support\n",
            "\n",
            "           0       0.90      0.93      0.92     38648\n",
            "           1       0.96      0.95      0.95     71950\n",
            "\n",
            "    accuracy                           0.94    110598\n",
            "   macro avg       0.93      0.94      0.94    110598\n",
            "weighted avg       0.94      0.94      0.94    110598\n",
            "\n"
          ]
        }
      ],
      "source": [
        "roc_auc = roc_auc_score(y_test, preds_proba)\n",
        "print(f\"ROC-AUC на тесте: {roc_auc:.4f}\")\n",
        "print()\n",
        "print(classification_report(y_test, preds))"
      ]
    },
    {
      "cell_type": "code",
      "execution_count": null,
      "metadata": {
        "id": "NsAtQoHAO0Sc",
        "outputId": "98aad148-1c1e-4393-f0fe-11c78cfcfc99"
      },
      "outputs": [
        {
          "data": {
            "image/png": "[encoded data removed]",
            "text/plain": [
              "<Figure size 1000x400 with 1 Axes>"
            ]
          },
          "metadata": {},
          "output_type": "display_data"
        }
      ],
      "source": [
        "# Порог принятия решений\n",
        "\n",
        "# списки, в которых будут значения метрик\n",
        "recall_scores = []\n",
        "precision_scores = []\n",
        "f1_scores = []\n",
        "\n",
        "# набор вероятностных порогов в диапазоне от 0.1 до 1\n",
        "thresholds = np.arange(0.1, 1, 0.05)\n",
        "\n",
        "# В цикле перебирать пороги\n",
        "for threshold in thresholds:\n",
        "    preds = (preds_proba > threshold).astype(int)\n",
        "\n",
        "    recall_scores.append(metrics.recall_score(y_test, preds))\n",
        "    precision_scores.append(metrics.precision_score(y_test, preds))\n",
        "    f1_scores.append(metrics.f1_score(y_test, preds))\n",
        "\n",
        "fig = plt.figure(figsize=(10, 4))\n",
        "sns.lineplot(x=thresholds, y=recall_scores, label='recall')\n",
        "sns.lineplot(x=thresholds, y=precision_scores, label='precision')\n",
        "sns.lineplot(x=thresholds, y=f1_scores, label='f1_scores')\n",
        "plt.title('Зависимость метрик от порога вероятности')\n",
        "plt.legend()\n",
        "plt.grid(True)\n",
        "plt.show()"
      ]
    },
    {
      "cell_type": "markdown",
      "metadata": {
        "id": "KwnqbnKHO0Sd"
      },
      "source": [
        "Выбираем порог 0.45 - на пересечении метрик"
      ]
    },
    {
      "cell_type": "code",
      "execution_count": null,
      "metadata": {
        "id": "jWS6ss1ZO0Sd",
        "outputId": "a5185707-f58c-4a67-fd70-382b99c908e8"
      },
      "outputs": [
        {
          "name": "stdout",
          "output_type": "stream",
          "text": [
            "              precision    recall  f1-score   support\n",
            "\n",
            "           0       0.91      0.92      0.92     38648\n",
            "           1       0.96      0.95      0.95     71950\n",
            "\n",
            "    accuracy                           0.94    110598\n",
            "   macro avg       0.93      0.94      0.93    110598\n",
            "weighted avg       0.94      0.94      0.94    110598\n",
            "\n"
          ]
        }
      ],
      "source": [
        "#Задаём оптимальный порог вероятностей\n",
        "threshold_opt = 0.45\n",
        "preds_opt = (preds_proba >= threshold_opt).astype('int')\n",
        "print(classification_report(y_test, preds_opt))"
      ]
    },
    {
      "cell_type": "markdown",
      "metadata": {
        "id": "LSre4V52O0Sd"
      },
      "source": [
        "практически одинаковые метрики при порогах 0.5 и 0.45"
      ]
    },
    {
      "cell_type": "code",
      "execution_count": null,
      "metadata": {
        "id": "_Ia_Ld-sO0Sf",
        "outputId": "eace9033-db01-4067-e050-207c17c3ebe3"
      },
      "outputs": [
        {
          "data": {
            "image/png": "[encoded data removed]",
            "text/plain": [
              "<Figure size 640x480 with 1 Axes>"
            ]
          },
          "metadata": {},
          "output_type": "display_data"
        }
      ],
      "source": [
        "# Строим ROC кривую из статистики)\n",
        "fpr, tpr, threshold = metrics.roc_curve(y_test, preds_proba)\n",
        "roc_auc = metrics.auc(fpr, tpr)\n",
        "plt.title('Receiver Operating Characteristic')\n",
        "plt.plot(fpr, tpr, 'b', label = 'AUC = %0.2f' % roc_auc)\n",
        "plt.legend(loc = 'lower right')\n",
        "plt.plot([0, 1], [0, 1],'r--')\n",
        "plt.xlim([0, 1])\n",
        "plt.ylim([0, 1])\n",
        "plt.ylabel('True Positive Rate')\n",
        "plt.xlabel('False Positive Rate')\n",
        "plt.show()"
      ]
    },
    {
      "cell_type": "markdown",
      "metadata": {
        "id": "bb2sLxY9O0Sf"
      },
      "source": [
        "Добавить фичи:\n",
        "\n",
        "- len_name — длина строки в столбце name (количество символов)\n",
        "- len_type — длина строки в столбце type\n",
        "- len_category_l2 — длина строки в столбце category_l2\n",
        "- len_category_l4 — длина строки в столбце category_l4\n",
        "- n_words_name — количество слов в name\n",
        "- n_words_type — количество слов в type\n",
        "- n_category_l2 — количество слов в category_l2\n",
        "- n_category_l4 — количество слов в category_l4\n",
        "- type_in_name — бинарный флаг, равный 1, если значение type встречается внутри строки name, иначе 0\n",
        "- common_words_name_type — количество общих слов между name и type\n",
        "- unknown_flag — бинарный флаг, равный 1, если в category_l2 стоит значение 'unknown', иначе 0 (при варианте 1 нет смысла - только при варианте 2). В функции ниже его нет, но можно дописать, если вдруг надумаем"
      ]
    },
    {
      "cell_type": "code",
      "execution_count": null,
      "metadata": {
        "id": "z6-y3mlaO0Sf",
        "outputId": "0c415324-c5b0-4164-d03e-233bed51a69b"
      },
      "outputs": [
        {
          "name": "stdout",
          "output_type": "stream",
          "text": [
            "(442365, 504)\n",
            "(110598, 504)\n"
          ]
        }
      ],
      "source": [
        "print(X_train_full_new.shape)\n",
        "print(X_test_full_new.shape)"
      ]
    },
    {
      "cell_type": "code",
      "execution_count": null,
      "metadata": {
        "id": "C68pv9myO0Sg"
      },
      "outputs": [],
      "source": [
        "# CatBoost вроде как устойчив к масштабированию - там же деревья, поэтому можем не стандартизовывать / нормализовывать\n",
        "# добавляем новые вичи функцией\n",
        "\n",
        "X_train_full_new['name'] = data_train['name']\n",
        "X_test_full_new['name'] = data_test['name']\n",
        "\n",
        "def add_text_features(df):\n",
        "    df['len_name'] = df['name'].astype(str).str.len()\n",
        "    df['len_type'] = df['type'].astype(str).str.len()\n",
        "    df['len_category_l2'] = df['category_l2'].astype(str).str.len()\n",
        "    df['len_category_l4'] = df['category_l4'].astype(str).str.len()\n",
        "\n",
        "    df['n_words_name'] = df['name'].astype(str).str.split().apply(len)\n",
        "    df['n_words_type'] = df['type'].astype(str).str.split().apply(len)\n",
        "    df['n_words_category_l2'] = df['category_l2'].astype(str).str.split().apply(len)\n",
        "    df['n_words_category_l4'] = df['category_l4'].astype(str).str.split().apply(len)\n",
        "\n",
        "    df['type_in_name'] = df.apply(\n",
        "        lambda row: int(str(row['type']).lower() in str(row['name']).lower()),\n",
        "        axis=1\n",
        "    )\n",
        "\n",
        "    df['common_words_name_type'] = df.apply(\n",
        "        lambda row: len(set(str(row['name']).lower().split()) & set(str(row['type']).lower().split())),\n",
        "        axis=1\n",
        "    )\n",
        "\n",
        "# Применим к обучающему и тестовому датасету\n",
        "add_text_features(X_train_full_new)\n",
        "add_text_features(X_test_full_new)\n",
        "\n",
        "# Теперь удаляем name из датафреймов\n",
        "X_train_full_new.drop(labels='name', axis=1, inplace=True)\n",
        "X_test_full_new.drop(labels='name', axis=1, inplace=True)\n"
      ]
    },
    {
      "cell_type": "code",
      "execution_count": null,
      "metadata": {
        "id": "qvqSXmG0O0Sg",
        "outputId": "654ae08d-2fae-4e0a-d881-7eabb8ef5ff8"
      },
      "outputs": [
        {
          "name": "stdout",
          "output_type": "stream",
          "text": [
            "(442365, 514)\n",
            "(110598, 514)\n",
            "(442365,)\n",
            "(110598,)\n"
          ]
        }
      ],
      "source": [
        "print(X_train_full_new.shape)\n",
        "print(X_test_full_new.shape) # + 10 фичей\n",
        "print(y_train.shape)\n",
        "print(y_test.shape)"
      ]
    },
    {
      "cell_type": "code",
      "execution_count": null,
      "metadata": {
        "id": "8XuzkjwXO0Sg",
        "outputId": "4fe1a334-1013-4ea6-c547-7d9dbf5d973b"
      },
      "outputs": [
        {
          "data": {
            "text/html": [
              "<div>\n",
              "<style scoped>\n",
              "    .dataframe tbody tr th:only-of-type {\n",
              "        vertical-align: middle;\n",
              "    }\n",
              "\n",
              "    .dataframe tbody tr th {\n",
              "        vertical-align: top;\n",
              "    }\n",
              "\n",
              "    .dataframe thead th {\n",
              "        text-align: right;\n",
              "    }\n",
              "</style>\n",
              "<table border=\"1\" class=\"dataframe\">\n",
              "  <thead>\n",
              "    <tr style=\"text-align: right;\">\n",
              "      <th></th>\n",
              "      <th>tfidf_499</th>\n",
              "      <th>type</th>\n",
              "      <th>category_l2</th>\n",
              "      <th>category_l4</th>\n",
              "      <th>is_markup</th>\n",
              "      <th>len_name</th>\n",
              "      <th>len_type</th>\n",
              "      <th>len_category_l2</th>\n",
              "      <th>len_category_l4</th>\n",
              "      <th>n_words_name</th>\n",
              "      <th>n_words_type</th>\n",
              "      <th>n_words_category_l2</th>\n",
              "      <th>n_words_category_l4</th>\n",
              "      <th>type_in_name</th>\n",
              "      <th>common_words_name_type</th>\n",
              "    </tr>\n",
              "  </thead>\n",
              "  <tbody>\n",
              "    <tr>\n",
              "      <th>0</th>\n",
              "      <td>0.0</td>\n",
              "      <td>Моноласта</td>\n",
              "      <td>Обувь</td>\n",
              "      <td>Кроссовки</td>\n",
              "      <td>1</td>\n",
              "      <td>81</td>\n",
              "      <td>9</td>\n",
              "      <td>5</td>\n",
              "      <td>9</td>\n",
              "      <td>13</td>\n",
              "      <td>1</td>\n",
              "      <td>1</td>\n",
              "      <td>1</td>\n",
              "      <td>0</td>\n",
              "      <td>0</td>\n",
              "    </tr>\n",
              "    <tr>\n",
              "      <th>1</th>\n",
              "      <td>0.0</td>\n",
              "      <td>Стеллаж для игрушек</td>\n",
              "      <td>Дом и сад</td>\n",
              "      <td>Ящик для игрушек</td>\n",
              "      <td>1</td>\n",
              "      <td>31</td>\n",
              "      <td>19</td>\n",
              "      <td>9</td>\n",
              "      <td>16</td>\n",
              "      <td>4</td>\n",
              "      <td>3</td>\n",
              "      <td>3</td>\n",
              "      <td>3</td>\n",
              "      <td>0</td>\n",
              "      <td>1</td>\n",
              "    </tr>\n",
              "    <tr>\n",
              "      <th>2</th>\n",
              "      <td>0.0</td>\n",
              "      <td>Кроссовки</td>\n",
              "      <td>Обувь</td>\n",
              "      <td>Кроссовки</td>\n",
              "      <td>0</td>\n",
              "      <td>16</td>\n",
              "      <td>9</td>\n",
              "      <td>5</td>\n",
              "      <td>9</td>\n",
              "      <td>2</td>\n",
              "      <td>1</td>\n",
              "      <td>1</td>\n",
              "      <td>1</td>\n",
              "      <td>1</td>\n",
              "      <td>1</td>\n",
              "    </tr>\n",
              "    <tr>\n",
              "      <th>3</th>\n",
              "      <td>0.0</td>\n",
              "      <td>Набор для приготовления настойки</td>\n",
              "      <td>Продукты питания</td>\n",
              "      <td>Смесь приправ, специй и трав</td>\n",
              "      <td>1</td>\n",
              "      <td>54</td>\n",
              "      <td>32</td>\n",
              "      <td>16</td>\n",
              "      <td>28</td>\n",
              "      <td>8</td>\n",
              "      <td>4</td>\n",
              "      <td>2</td>\n",
              "      <td>5</td>\n",
              "      <td>0</td>\n",
              "      <td>2</td>\n",
              "    </tr>\n",
              "    <tr>\n",
              "      <th>4</th>\n",
              "      <td>0.0</td>\n",
              "      <td>Багажный бокс (автобокс)</td>\n",
              "      <td>Автотовары</td>\n",
              "      <td>Багажный бокс (автобокс)</td>\n",
              "      <td>1</td>\n",
              "      <td>126</td>\n",
              "      <td>24</td>\n",
              "      <td>10</td>\n",
              "      <td>24</td>\n",
              "      <td>19</td>\n",
              "      <td>3</td>\n",
              "      <td>1</td>\n",
              "      <td>3</td>\n",
              "      <td>0</td>\n",
              "      <td>0</td>\n",
              "    </tr>\n",
              "  </tbody>\n",
              "</table>\n",
              "</div>"
            ],
            "text/plain": [
              "   tfidf_499                              type       category_l2  \\\n",
              "0        0.0                         Моноласта             Обувь   \n",
              "1        0.0               Стеллаж для игрушек         Дом и сад   \n",
              "2        0.0                         Кроссовки             Обувь   \n",
              "3        0.0  Набор для приготовления настойки  Продукты питания   \n",
              "4        0.0          Багажный бокс (автобокс)        Автотовары   \n",
              "\n",
              "                    category_l4  is_markup  len_name  len_type  \\\n",
              "0                     Кроссовки          1        81         9   \n",
              "1              Ящик для игрушек          1        31        19   \n",
              "2                     Кроссовки          0        16         9   \n",
              "3  Смесь приправ, специй и трав          1        54        32   \n",
              "4      Багажный бокс (автобокс)          1       126        24   \n",
              "\n",
              "   len_category_l2  len_category_l4  n_words_name  n_words_type  \\\n",
              "0                5                9            13             1   \n",
              "1                9               16             4             3   \n",
              "2                5                9             2             1   \n",
              "3               16               28             8             4   \n",
              "4               10               24            19             3   \n",
              "\n",
              "   n_words_category_l2  n_words_category_l4  type_in_name  \\\n",
              "0                    1                    1             0   \n",
              "1                    3                    3             0   \n",
              "2                    1                    1             1   \n",
              "3                    2                    5             0   \n",
              "4                    1                    3             0   \n",
              "\n",
              "   common_words_name_type  \n",
              "0                       0  \n",
              "1                       1  \n",
              "2                       1  \n",
              "3                       2  \n",
              "4                       0  "
            ]
          },
          "execution_count": 31,
          "metadata": {},
          "output_type": "execute_result"
        }
      ],
      "source": [
        "X_train_full_new.iloc[:, 499:].head()"
      ]
    },
    {
      "cell_type": "code",
      "execution_count": null,
      "metadata": {
        "id": "VVLDEz1oO0Sh",
        "outputId": "5acee94d-e934-4975-8457-22193d347c39"
      },
      "outputs": [
        {
          "name": "stdout",
          "output_type": "stream",
          "text": [
            "X_train_part_new: (353892, 514)\n",
            "X_val_new:  (88473, 514)\n",
            "y_train_part_new: (353892,)\n",
            "y_val_new:  (88473,)\n"
          ]
        }
      ],
      "source": [
        "# разделение тренировочных данные на тренировочную и валидационную\n",
        "X_train_part_new, X_val_new, y_train_part_new, y_val_new = train_test_split(\n",
        "    X_train_full_new, y_train, test_size=0.2, random_state=42, stratify=y_train\n",
        ")\n",
        "\n",
        "print(f'X_train_part_new: {X_train_part_new.shape}')\n",
        "print(f'X_val_new:  {X_val_new.shape}')\n",
        "print(f'y_train_part_new: {y_train_part_new.shape}')\n",
        "print(f'y_val_new:  {y_val_new.shape}')"
      ]
    },
    {
      "cell_type": "code",
      "execution_count": null,
      "metadata": {
        "id": "3XNYhLSaO0Sh"
      },
      "outputs": [],
      "source": [
        "model_new = CatBoostClassifier(\n",
        "    iterations=300,         # число деревьев (иттераций бустинга)\n",
        "    learning_rate=0.1,      # шаг обучения\n",
        "    depth=6,                # максимальная глубина деревьев\n",
        "    verbose=100,             # вывод информации каждые 100 итераций\n",
        "    loss_function='Logloss',  # функция потерь для бинарной классификации\n",
        "    eval_metric='AUC'         # метрика качества для валидации — ROC AUC\n",
        ")"
      ]
    },
    {
      "cell_type": "code",
      "execution_count": null,
      "metadata": {
        "id": "sgHTOSo6O0Sh",
        "outputId": "6c59473b-56a0-4b9d-dc27-fc0f7b0deb3f"
      },
      "outputs": [
        {
          "name": "stdout",
          "output_type": "stream",
          "text": [
            "0:\ttest: 0.9518650\tbest: 0.9518650 (0)\ttotal: 532ms\tremaining: 2m 39s\n",
            "100:\ttest: 0.9873545\tbest: 0.9873545 (100)\ttotal: 18.8s\tremaining: 37.1s\n",
            "200:\ttest: 0.9876755\tbest: 0.9876755 (200)\ttotal: 35.8s\tremaining: 17.6s\n",
            "299:\ttest: 0.9878441\tbest: 0.9878441 (299)\ttotal: 52.5s\tremaining: 0us\n",
            "\n",
            "bestTest = 0.9878440998\n",
            "bestIteration = 299\n",
            "\n"
          ]
        },
        {
          "data": {
            "text/plain": [
              "<catboost.core.CatBoostClassifier at 0x13b2d4410>"
            ]
          },
          "execution_count": 34,
          "metadata": {},
          "output_type": "execute_result"
        }
      ],
      "source": [
        "model_new.fit(\n",
        "    X_train_part_new,       # матрица признаков\n",
        "    y_train_part_new,            # целевой признак (0/1)\n",
        "    cat_features=cat_features,         # категориальные признаки\n",
        "    eval_set=(X_val_new, y_val_new)     # валидационный набор для контроля переобучения и оценки ROC AUC\n",
        ")"
      ]
    },
    {
      "cell_type": "markdown",
      "metadata": {
        "id": "_SGwmt_sO0Si"
      },
      "source": [
        "Лучшая AUC на валидации: 0.9878 -> был 0.9857 (вырос))))"
      ]
    },
    {
      "cell_type": "code",
      "execution_count": null,
      "metadata": {
        "id": "Crp_hKxzO0Si"
      },
      "outputs": [],
      "source": [
        "# Предсказание вероятности класса 1 (target = 1)\n",
        "preds_proba_new = model_new.predict_proba(X_test_full_new)[:, 1]\n",
        "preds_new = model_new.predict(X_test_full_new)"
      ]
    },
    {
      "cell_type": "code",
      "execution_count": null,
      "metadata": {
        "id": "ZcXzFJzRO0Si",
        "outputId": "4f384de6-d975-44e5-aa0a-ec3a8e89a760"
      },
      "outputs": [
        {
          "name": "stdout",
          "output_type": "stream",
          "text": [
            "ROC-AUC на тесте: 0.9881\n",
            "\n",
            "              precision    recall  f1-score   support\n",
            "\n",
            "           0       0.91      0.94      0.92     38648\n",
            "           1       0.97      0.95      0.96     71950\n",
            "\n",
            "    accuracy                           0.94    110598\n",
            "   macro avg       0.94      0.94      0.94    110598\n",
            "weighted avg       0.94      0.94      0.94    110598\n",
            "\n"
          ]
        }
      ],
      "source": [
        "roc_auc = roc_auc_score(y_test, preds_proba_new)\n",
        "print(f\"ROC-AUC на тесте: {roc_auc:.4f}\")\n",
        "print()\n",
        "print(classification_report(y_test, preds_new))"
      ]
    },
    {
      "cell_type": "markdown",
      "metadata": {
        "id": "Fzi6sarIO0Sj"
      },
      "source": [
        "До новых фичей: ROC-AUC на тесте: 0.9860\n",
        "\n",
        "              precision    recall  f1-score   support\n",
        "           0       0.90      0.93      0.92     38648\n",
        "           1       0.96      0.95      0.95     71950\n",
        "    accuracy                           0.94    110598\n",
        "   \n",
        "После новых фичей: ROC-AUC на тесте: 0.9881\n",
        "\n",
        "              precision    recall  f1-score   support\n",
        "           0       0.91      0.94      0.92     38648\n",
        "           1       0.97      0.95      0.96     71950\n",
        "    accuracy                           0.94    110598\n"
      ]
    },
    {
      "cell_type": "code",
      "execution_count": null,
      "metadata": {
        "id": "wfzb3swjO0Sj",
        "outputId": "758bdd34-989b-43f1-8051-3c7c36db7972"
      },
      "outputs": [
        {
          "data": {
            "image/png": "[encoded data removed]",
            "text/plain": [
              "<Figure size 1000x400 with 1 Axes>"
            ]
          },
          "metadata": {},
          "output_type": "display_data"
        }
      ],
      "source": [
        "# Порог принятия решений\n",
        "\n",
        "# списки, в которых будут значения метрик\n",
        "recall_scores = []\n",
        "precision_scores = []\n",
        "f1_scores = []\n",
        "\n",
        "# набор вероятностных порогов в диапазоне от 0.1 до 1\n",
        "thresholds = np.arange(0.1, 1, 0.05)\n",
        "\n",
        "# В цикле перебирать пороги\n",
        "for threshold in thresholds:\n",
        "    preds_new = (preds_proba_new > threshold).astype(int)\n",
        "\n",
        "    recall_scores.append(metrics.recall_score(y_test, preds_new))\n",
        "    precision_scores.append(metrics.precision_score(y_test, preds_new))\n",
        "    f1_scores.append(metrics.f1_score(y_test, preds_new))\n",
        "\n",
        "fig = plt.figure(figsize=(10, 4))\n",
        "sns.lineplot(x=thresholds, y=recall_scores, label='recall')\n",
        "sns.lineplot(x=thresholds, y=precision_scores, label='precision')\n",
        "sns.lineplot(x=thresholds, y=f1_scores, label='f1_scores')\n",
        "plt.title('Зависимость метрик от порога вероятности')\n",
        "plt.legend()\n",
        "plt.grid(True)\n",
        "plt.show()"
      ]
    },
    {
      "cell_type": "markdown",
      "metadata": {
        "id": "SFKPoxbmO0Sk"
      },
      "source": [
        "Выбираем порог 0.45 - на пересечении метрик"
      ]
    },
    {
      "cell_type": "code",
      "execution_count": null,
      "metadata": {
        "id": "Cf1iz7iUO0Sk",
        "outputId": "043ff946-93b7-48eb-f2f2-d8685a46a2a8"
      },
      "outputs": [
        {
          "name": "stdout",
          "output_type": "stream",
          "text": [
            "              precision    recall  f1-score   support\n",
            "\n",
            "           0       0.92      0.92      0.92     38648\n",
            "           1       0.96      0.95      0.96     71950\n",
            "\n",
            "    accuracy                           0.94    110598\n",
            "   macro avg       0.94      0.94      0.94    110598\n",
            "weighted avg       0.94      0.94      0.94    110598\n",
            "\n"
          ]
        }
      ],
      "source": [
        "#Задаём оптимальный порог вероятностей\n",
        "threshold_opt = 0.45\n",
        "preds_opt_new = (preds_proba_new >= threshold_opt).astype('int')\n",
        "print(classification_report(y_test, preds_opt_new))"
      ]
    },
    {
      "cell_type": "markdown",
      "metadata": {
        "id": "xoQVuXqFO0Sl"
      },
      "source": [
        "практически одинаковые метрики при порогах 0.5 и 0.45"
      ]
    },
    {
      "cell_type": "code",
      "execution_count": null,
      "metadata": {
        "id": "moTMLc_aO0Sl",
        "outputId": "db373d5e-e466-4d4b-a3dc-273eb1ae85ed"
      },
      "outputs": [
        {
          "data": {
            "image/png": "[encoded data removed]",
            "text/plain": [
              "<Figure size 640x480 with 1 Axes>"
            ]
          },
          "metadata": {},
          "output_type": "display_data"
        }
      ],
      "source": [
        "# Строим ROC кривую из статистики)\n",
        "fpr, tpr, threshold = metrics.roc_curve(y_test, preds_proba_new)\n",
        "roc_auc = metrics.auc(fpr, tpr)\n",
        "plt.title('Receiver Operating Characteristic')\n",
        "plt.plot(fpr, tpr, 'b', label = 'AUC = %0.2f' % roc_auc)\n",
        "plt.legend(loc = 'lower right')\n",
        "plt.plot([0, 1], [0, 1],'r--')\n",
        "plt.xlim([0, 1])\n",
        "plt.ylim([0, 1])\n",
        "plt.ylabel('True Positive Rate')\n",
        "plt.xlabel('False Positive Rate')\n",
        "plt.show()"
      ]
    },
    {
      "cell_type": "markdown",
      "metadata": {
        "id": "3nArYoPIO0Sl"
      },
      "source": [
        "По факту что сделано\n",
        "- Чистка данных и удаление пропусков\n",
        "- Использование TF-IDF для текстового признака name\n",
        "- Разделение на тренировочную и валидационную выборки (stratify=y_train)\n",
        "- CatBoost с указанием категориальных признаков (не делал скейлеров)\n",
        "- Добавление новых признаков (фичей) на основе текстовых данных\n",
        "- Контроль метрик на валидации (AUC)\n",
        "- Сравнение результатов до и после добавления новых признаков\n",
        "\n",
        "результаты\n",
        "- ROC-AUC ~0.986 → 0.988 после новых признаков — улучшение небольшое\n",
        "- Precision, recall, f1-score на уровне 0.9+ и с новыми фичами и если не добавлять их такой же в целом, порог вероятности также не сильно влияет (0.45 и 0.5)\n",
        "\n",
        "что еще тут сделать\n",
        "- Можно протестить вариант 2й - не удаляем безбожно пропуски, а заменяем на 'unknown'\n",
        "- пробовать BERT\n",
        "- запихнуть в реализации все в пайплайны, чтобы выглядело красивее)\n",
        "\n"
      ]
    },
    {
      "cell_type": "markdown",
      "metadata": {
        "id": "iieDrwhLO0Sl"
      },
      "source": [
        "# Описание модели для выдачи рекомендаций"
      ]
    },
    {
      "cell_type": "markdown",
      "metadata": {
        "id": "4j96ZNLaO0Sl"
      },
      "source": [
        "Если модель первого уровня определила, что type неверный (==0)\n",
        "- предсказать наиболее вероятные type — выдать 10 рекомендаций\n",
        "- многоклассовая классификация (type — класс / таргет)\n",
        "- обучение происходит только на примерах target = 1 - верных\n",
        "\n",
        "Логика:\n",
        "- сначала используем бинарную модель, и если она говорит type неверный\n",
        "- передаем данные (без type) во вторую модель,\n",
        "- получаем 10 вероятных классов из неё\n",
        "\n",
        "Пайплайн\n",
        "- Модель 1 - Обучаем на всем X_train_full_new → предсказываем target\n",
        "- Модель 2 - Используем только те строки, где истинный target == 1\n",
        "- Предсказание\n",
        "    - используем первую модель, чтобы решить — нужно ли запускать вторую"
      ]
    },
    {
      "cell_type": "code",
      "execution_count": null,
      "metadata": {
        "id": "2Ojxo6ebO0Sm",
        "outputId": "3f335324-25fe-4b26-9084-d3b26b7189cd"
      },
      "outputs": [
        {
          "name": "stdout",
          "output_type": "stream",
          "text": [
            "(442365, 514)\n",
            "(110598, 514)\n",
            "(442365,)\n",
            "(110598,)\n"
          ]
        }
      ],
      "source": [
        "print(X_train_full_new.shape)\n",
        "print(X_test_full_new.shape) # + 10 фичей\n",
        "print(y_train.shape)\n",
        "print(y_test.shape)"
      ]
    },
    {
      "cell_type": "code",
      "execution_count": null,
      "metadata": {
        "id": "eakC75iLO0Sm"
      },
      "outputs": [],
      "source": [
        "# Отбираем только те строки, где target == 1 - обучаться на верных примерах\n",
        "X_train_mc = X_train_full_new[y_train == 1].copy()\n",
        "y_train_mc = data_train.loc[y_train == 1, 'type'].copy()  # целевой признак — type\n",
        "\n",
        "X_test_mc = X_test_full_new[y_test == 1].copy()\n",
        "y_test_mc = data_test.loc[y_test == 1, 'type'].copy()  # целевой признак — type"
      ]
    },
    {
      "cell_type": "code",
      "execution_count": null,
      "metadata": {
        "id": "vRJOW07eO0Sm"
      },
      "outputs": [],
      "source": [
        "X_train_mc = X_train_mc.drop(columns=['type'])\n",
        "X_test_mc = X_test_mc.drop(columns=['type'])"
      ]
    },
    {
      "cell_type": "code",
      "execution_count": null,
      "metadata": {
        "id": "G7kxhSBxO0Sm"
      },
      "outputs": [],
      "source": [
        "# Подсчёт частот\n",
        "type_counts = y_train_mc.value_counts()\n",
        "# Копия целевого признака\n",
        "y_train_mc_mod = y_train_mc.copy()\n",
        "y_test_mc_mod = y_test_mc.copy()"
      ]
    },
    {
      "cell_type": "code",
      "execution_count": null,
      "metadata": {
        "id": "lAUWm_m1O0Sn",
        "outputId": "82b77064-b3d9-436b-c99f-b40ff8ad8ff3"
      },
      "outputs": [
        {
          "data": {
            "text/plain": [
              "type\n",
              "other                      80647\n",
              "Картина                    24102\n",
              "Фотообои                   15614\n",
              "Матрас                     11911\n",
              "Постер                      9177\n",
              "                           ...  \n",
              "Пуловер                      100\n",
              "Мокасины                     100\n",
              "Ремень поликлиновой          100\n",
              "Инструменты для рыбалки      100\n",
              "Активные компоненты          100\n",
              "Name: count, Length: 316, dtype: int64"
            ]
          },
          "execution_count": 44,
          "metadata": {},
          "output_type": "execute_result"
        }
      ],
      "source": [
        "# заменяем редкие классы на 'Other'\n",
        "# Порог\n",
        "threshold = 100\n",
        "rare_classes = type_counts[type_counts < threshold].index\n",
        "y_train_mc_mod.loc[y_train_mc_mod.isin(rare_classes)] = 'other'\n",
        "y_test_mc_mod.loc[y_test_mc_mod.isin(rare_classes)] = 'other'\n",
        "X_train_mc_mod = X_train_mc.copy()\n",
        "X_test_mc_mod = X_test_mc.copy()\n",
        "y_train_mc_mod.value_counts()"
      ]
    },
    {
      "cell_type": "code",
      "execution_count": null,
      "metadata": {
        "id": "86X2KgUGO0Sn"
      },
      "outputs": [],
      "source": [
        "# Кодируем метки в числа для обучения модели\n",
        "train_classes = set(y_train_mc_mod.unique())\n",
        "\n",
        "# Функция для замены неизвестных классов на 'other'\n",
        "def replace_labels(series, known_classes):\n",
        "    return series.apply(lambda x: x if x in known_classes else 'other')\n",
        "# Применяем к тесту\n",
        "y_test_mc_mod = replace_labels(y_test_mc, train_classes)\n",
        "\n",
        "type_encoder = LabelEncoder()\n",
        "y_train_mc_encoded = type_encoder.fit_transform(y_train_mc_mod)\n",
        "y_test_mc_encoded = type_encoder.transform(y_test_mc_mod)"
      ]
    },
    {
      "cell_type": "code",
      "execution_count": null,
      "metadata": {
        "id": "nJHfbuW8O0Sn",
        "outputId": "7986422f-300c-42c9-8887-eccb1023f5e0"
      },
      "outputs": [
        {
          "data": {
            "text/plain": [
              "array([129,   2,  16, ..., 147,   2,   2], shape=(287790,))"
            ]
          },
          "execution_count": 46,
          "metadata": {},
          "output_type": "execute_result"
        }
      ],
      "source": [
        "y_train_mc_encoded"
      ]
    },
    {
      "cell_type": "code",
      "execution_count": null,
      "metadata": {
        "id": "Mz54134tO0Sn"
      },
      "outputs": [],
      "source": [
        "from sklearn.decomposition import PCA\n",
        "\n",
        "# Не обучается, не хватает мощностей или что-то не так, продую понизить размерность (категориальные не учитываю)\n",
        "X_train_mc_pca = X_train_mc.drop(labels=['category_l2', 'category_l4'], axis=1)\n",
        "X_test_mc_pca = X_test_mc.drop(labels=['category_l2', 'category_l4'], axis=1)"
      ]
    },
    {
      "cell_type": "code",
      "execution_count": null,
      "metadata": {
        "id": "2YQZ35aMO0So"
      },
      "outputs": [],
      "source": [
        "# Масштабируем признаки для PCA\n",
        "scaler = StandardScaler()\n",
        "X_train_scaled = scaler.fit_transform(X_train_mc_pca)\n",
        "X_test_scaled = scaler.transform(X_test_mc_pca)\n",
        "\n",
        "# PCA — оставим 50 компонент\n",
        "pca = PCA(n_components=50, random_state=42)\n",
        "X_train_pca = pca.fit_transform(X_train_scaled)\n",
        "X_test_pca = pca.transform(X_test_scaled)"
      ]
    },
    {
      "cell_type": "code",
      "execution_count": null,
      "metadata": {
        "id": "Kddkxq7RO0Sp",
        "outputId": "c28956af-adb3-4420-a5b6-08f4c0064c95"
      },
      "outputs": [
        {
          "name": "stdout",
          "output_type": "stream",
          "text": [
            "X_train_pca shape: (287790, 50)\n",
            "X_test_pca shape: (71950, 50)\n"
          ]
        }
      ],
      "source": [
        "print(f'X_train_pca shape: {X_train_pca.shape}')\n",
        "print(f'X_test_pca shape: {X_test_pca.shape}')"
      ]
    },
    {
      "cell_type": "code",
      "execution_count": null,
      "metadata": {
        "id": "LZtH9Q0VO0Sp",
        "outputId": "05eec3a3-39bb-44db-e0ef-d58c8e1d3f90"
      },
      "outputs": [
        {
          "name": "stdout",
          "output_type": "stream",
          "text": [
            "X_train_mc_part shape: (230232, 50), X_val_mc shape: (57558, 50)\n"
          ]
        }
      ],
      "source": [
        "# Разделяем данные на тренировочную и валидационную выборки с стратификацией\n",
        "X_train_mc_part, X_val_mc, y_train_mc_part, y_val_mc = train_test_split(\n",
        "    X_train_pca,\n",
        "    y_train_mc_encoded,\n",
        "    test_size=0.2,\n",
        "    random_state=42,\n",
        "    stratify=y_train_mc_encoded\n",
        ")\n",
        "print(f\"X_train_mc_part shape: {X_train_mc_part.shape}, X_val_mc shape: {X_val_mc.shape}\")"
      ]
    },
    {
      "cell_type": "code",
      "execution_count": null,
      "metadata": {
        "id": "yf-GlOqeO0Sp"
      },
      "outputs": [],
      "source": [
        "# CatBoost для мультиклассовой классификации\n",
        "model_mc = CatBoostClassifier(\n",
        "    iterations=150,                # Максимальное количество деревьев\n",
        "    learning_rate=0.1,             # Скорость обучения\n",
        "    depth=6,                       # Максимальная глубина деревьев\n",
        "    loss_function='MultiClassOneVsAll',    # Функция потерь\n",
        "    eval_metric='AUC',      # Метрика\n",
        "    verbose=15,                   # каждые 100 итераций вывод логов\n",
        "    random_seed=42\n",
        ")"
      ]
    },
    {
      "cell_type": "code",
      "execution_count": null,
      "metadata": {
        "id": "lUblqvaUO0Sq",
        "outputId": "e2a8254f-ed40-4119-a04b-497920c14737"
      },
      "outputs": [
        {
          "name": "stdout",
          "output_type": "stream",
          "text": [
            "0:\ttest: 0.8682058\tbest: 0.8682058 (0)\ttotal: 17.1s\tremaining: 42m 31s\n",
            "15:\ttest: 0.9883677\tbest: 0.9883677 (15)\ttotal: 6m 47s\tremaining: 56m 55s\n",
            "30:\ttest: 0.9904452\tbest: 0.9904452 (30)\ttotal: 14m 19s\tremaining: 54m 58s\n",
            "45:\ttest: 0.9925708\tbest: 0.9925708 (45)\ttotal: 21m 5s\tremaining: 47m 40s\n",
            "60:\ttest: 0.9945951\tbest: 0.9945951 (60)\ttotal: 27m 55s\tremaining: 40m 45s\n",
            "75:\ttest: 0.9963132\tbest: 0.9963132 (75)\ttotal: 34m 31s\tremaining: 33m 36s\n",
            "90:\ttest: 0.9973716\tbest: 0.9973716 (90)\ttotal: 40m 39s\tremaining: 26m 21s\n",
            "105:\ttest: 0.9978682\tbest: 0.9978682 (105)\ttotal: 47m 2s\tremaining: 19m 31s\n",
            "120:\ttest: 0.9982033\tbest: 0.9982033 (120)\ttotal: 53m 9s\tremaining: 12m 44s\n",
            "135:\ttest: 0.9984363\tbest: 0.9984363 (135)\ttotal: 59m 12s\tremaining: 6m 5s\n",
            "149:\ttest: 0.9986334\tbest: 0.9986334 (149)\ttotal: 1h 4m 44s\tremaining: 0us\n",
            "\n",
            "bestTest = 0.9986334238\n",
            "bestIteration = 149\n",
            "\n"
          ]
        },
        {
          "data": {
            "text/plain": [
              "<catboost.core.CatBoostClassifier at 0x1356ece00>"
            ]
          },
          "execution_count": 52,
          "metadata": {},
          "output_type": "execute_result"
        }
      ],
      "source": [
        "# обучаем на тренировочных\n",
        "model_mc.fit(\n",
        "    X_train_mc_part,\n",
        "    y_train_mc_part,         # числовые метки классов\n",
        "    eval_set=(X_val_mc, y_val_mc), # для контроля переобучения\n",
        ")"
      ]
    },
    {
      "cell_type": "code",
      "execution_count": null,
      "metadata": {
        "id": "cdCH2kxtO0Sq"
      },
      "outputs": [],
      "source": [
        "y_pred_test = model_mc.predict(X_test_pca)"
      ]
    },
    {
      "cell_type": "code",
      "execution_count": null,
      "metadata": {
        "id": "xcxpcqVgO0Sq",
        "outputId": "14b6f33d-9ec0-438a-9bac-f878b10081bc"
      },
      "outputs": [
        {
          "name": "stdout",
          "output_type": "stream",
          "text": [
            "Accuracy на test: 0.8326337734537873\n"
          ]
        }
      ],
      "source": [
        "from sklearn.metrics import accuracy_score, classification_report\n",
        "# Точность\n",
        "print(\"Accuracy на test:\", accuracy_score(y_test_mc_encoded, y_pred_test))"
      ]
    },
    {
      "cell_type": "markdown",
      "metadata": {
        "id": "rN2Tcg72O0Sq"
      },
      "source": [
        "## Описание функций"
      ]
    },
    {
      "cell_type": "code",
      "execution_count": null,
      "metadata": {
        "id": "6okeQG2YO0Sr"
      },
      "outputs": [],
      "source": [
        "def prepare_features_for_prediction(user_input):\n",
        "    \"\"\"\n",
        "    Подготавливает признаки\n",
        "    \"\"\"\n",
        "    data = {\n",
        "        'name': [user_input['name']],\n",
        "        'type': [user_input.get('type', 'unknown')],\n",
        "        'category_l2': [user_input.get('category_l2', 'unknown')],\n",
        "        'category_l4': [user_input.get('category_l4', 'unknown')],\n",
        "        'is_markup': [int(user_input.get('is_markup', 0))]\n",
        "    }\n",
        "    df = pd.DataFrame(data)\n",
        "\n",
        "    # TF-IDF по названию\n",
        "    vectorizer_text = vectorizer.transform(df['name'])\n",
        "    vectorizer_text = pd.DataFrame(vectorizer_text.toarray(), columns=[f'tfidf_{i}' for i in range(vectorizer_text.shape[1])])\n",
        "\n",
        "    # Объединяем с основными признаками\n",
        "    df_full = pd.concat([vectorizer_text, df], axis=1)\n",
        "\n",
        "    # Фичи новые\n",
        "    df_full['len_name'] = df_full['name'].astype(str).str.len()\n",
        "    df_full['len_type'] = df_full['type'].astype(str).str.len()\n",
        "    df_full['len_category_l2'] = df_full['category_l2'].astype(str).str.len()\n",
        "    df_full['len_category_l4'] = df_full['category_l4'].astype(str).str.len()\n",
        "    df_full['n_words_name'] = df_full['name'].astype(str).str.split().apply(len)\n",
        "    df_full['n_words_type'] = df_full['type'].astype(str).str.split().apply(len)\n",
        "    df_full['n_words_category_l2'] = df_full['category_l2'].astype(str).str.split().apply(len)\n",
        "    df_full['n_words_category_l4'] = df_full['category_l4'].astype(str).str.split().apply(len)\n",
        "    df_full['type_in_name'] = df_full.apply(\n",
        "        lambda row: int(str(row['type']).lower() in str(row['name']).lower()),\n",
        "        axis=1\n",
        "    )\n",
        "    df_full['common_words_name_type'] = df_full.apply(\n",
        "        lambda row: len(set(str(row['name']).lower().split()) & set(str(row['type']).lower().split())),\n",
        "        axis=1\n",
        "    )\n",
        "    # Удаляем 'name', оставляем 'type', 'category_l2', 'category_l4'\n",
        "    df_full = df_full.drop(labels='name', axis=1)\n",
        "\n",
        "    # для model_new (с PCA)\n",
        "    # Для PCA: удаляем категориальные поля\n",
        "    df_pca_input = df_full.drop(columns=['type', 'category_l2', 'category_l4'])\n",
        "    # Масштабирование и PCA\n",
        "    X_scaled = scaler.transform(df_pca_input)\n",
        "    X_pca = pca.transform(X_scaled)\n",
        "\n",
        "    X_mc = df_full.copy()\n",
        "    return X_pca, X_mc"
      ]
    },
    {
      "cell_type": "code",
      "execution_count": null,
      "metadata": {
        "id": "tg927gG3O0Sr"
      },
      "outputs": [],
      "source": [
        "def classify_and_recommend(user_input, top_k=10):\n",
        "    X_pca, X_mc = prepare_features_for_prediction(user_input)\n",
        "\n",
        "    # подходит ли указанный тип\n",
        "    proba = model_new.predict_proba(X_mc)[0, 1]\n",
        "    is_correct = int(proba > 0.5)\n",
        "\n",
        "    if is_correct:\n",
        "        return {\n",
        "            'result': 'Тип указан правильно',\n",
        "            'probability': round(proba, 3),\n",
        "            'recommendations': f'оставляем {X_mc[\"type\"].values[0]}'\n",
        "        }\n",
        "\n",
        "    # Многоклассовая модель: топ-k рекомендаций\n",
        "    probs = model_mc.predict_proba(X_pca)[0]\n",
        "    top_k_indices = probs.argsort()[::-1][:top_k]\n",
        "    top_k_types = type_encoder.inverse_transform(top_k_indices)\n",
        "    top_k_scores = probs[top_k_indices]\n",
        "\n",
        "    recommendations = [{'type': t, 'score': round(s, 3)} for t, s in zip(top_k_types, top_k_scores)]\n",
        "\n",
        "    return {\n",
        "        'result': 'Тип, скорее всего, неверный',\n",
        "        'probability': round(proba, 2),\n",
        "        'recommendations': recommendations\n",
        "    }"
      ]
    },
    {
      "cell_type": "markdown",
      "source": [
        "## Примеры работы модели"
      ],
      "metadata": {
        "id": "OcKsydcJjecm"
      }
    },
    {
      "cell_type": "code",
      "execution_count": null,
      "metadata": {
        "id": "03fHAdOqO0Sr",
        "outputId": "d3564521-2e43-4bbb-9fbc-f4d2c925a97e"
      },
      "outputs": [
        {
          "data": {
            "text/plain": [
              "{'result': 'Тип указан правильно',\n",
              " 'probability': np.float64(1.0),\n",
              " 'recommendations': 'оставляем Люстра потолочная'}"
            ]
          },
          "execution_count": 65,
          "metadata": {},
          "output_type": "execute_result"
        }
      ],
      "source": [
        "user_input_1 = {\n",
        "    'name': 'Подвесная люстра Vitaluce V1339/5',\n",
        "    'type': 'Люстра потолочная',\n",
        "    'category_l2': 'Строительство и ремонт',\n",
        "    'category_l4': 'Светильник для дома',\n",
        "    'is_markup': 0\n",
        "}\n",
        "classify_and_recommend(user_input_1)"
      ]
    },
    {
      "cell_type": "code",
      "execution_count": null,
      "metadata": {
        "id": "_O2Zp4PYO0Sr",
        "outputId": "cae3f6b2-e3fb-4496-ff8e-cd048563a32a"
      },
      "outputs": [
        {
          "data": {
            "text/plain": [
              "{'result': 'Тип, скорее всего, неверный',\n",
              " 'probability': np.float64(0.12),\n",
              " 'recommendations': [{'type': 'other', 'score': np.float64(0.336)},\n",
              "  {'type': 'Смартфон', 'score': np.float64(0.123)},\n",
              "  {'type': 'Расходник для печати', 'score': np.float64(0.018)},\n",
              "  {'type': 'Пальто пуховое', 'score': np.float64(0.008)},\n",
              "  {'type': 'Куртка', 'score': np.float64(0.008)},\n",
              "  {'type': 'Шкаф распашной', 'score': np.float64(0.007)},\n",
              "  {'type': 'Пальто утепленное', 'score': np.float64(0.007)},\n",
              "  {'type': 'Комплект одежды', 'score': np.float64(0.005)},\n",
              "  {'type': 'Костюм спортивный', 'score': np.float64(0.004)},\n",
              "  {'type': 'Кабель питания', 'score': np.float64(0.004)}]}"
            ]
          },
          "execution_count": 66,
          "metadata": {},
          "output_type": "execute_result"
        }
      ],
      "source": [
        "user_input_2 = {\n",
        "    'name': 'Телефон Samsung',\n",
        "    'type': 'Авто',\n",
        "    'category_l2': 'Одежда',\n",
        "    'category_l4': 'Брюки',\n",
        "    'is_markup': 1\n",
        "}\n",
        "classify_and_recommend(user_input_2)"
      ]
    },
    {
      "cell_type": "code",
      "execution_count": null,
      "metadata": {
        "id": "i0PGxQkLO0Sr",
        "outputId": "f442ddf6-e419-491a-9a0d-1818ea9fe017"
      },
      "outputs": [
        {
          "data": {
            "text/plain": [
              "{'result': 'Тип, скорее всего, неверный',\n",
              " 'probability': np.float64(0.07),\n",
              " 'recommendations': [{'type': 'Кроссовки', 'score': np.float64(0.665)},\n",
              "  {'type': 'other', 'score': np.float64(0.104)},\n",
              "  {'type': 'Сникеры', 'score': np.float64(0.08)},\n",
              "  {'type': 'Кеды', 'score': np.float64(0.03)},\n",
              "  {'type': 'Брюки спортивные', 'score': np.float64(0.021)},\n",
              "  {'type': 'Ботинки', 'score': np.float64(0.02)},\n",
              "  {'type': 'Брюки', 'score': np.float64(0.016)},\n",
              "  {'type': 'Сапоги', 'score': np.float64(0.012)},\n",
              "  {'type': 'Пуховик', 'score': np.float64(0.012)},\n",
              "  {'type': 'Куртка', 'score': np.float64(0.009)}]}"
            ]
          },
          "execution_count": 67,
          "metadata": {},
          "output_type": "execute_result"
        }
      ],
      "source": [
        "user_input_3 = {\n",
        "    'name': 'Кроссовки Nike max',\n",
        "    'type': 'Куртка',\n",
        "    'category_l2': '',\n",
        "    'category_l4': 'Брюки',\n",
        "    'is_markup': 1\n",
        "}\n",
        "classify_and_recommend(user_input_3)"
      ]
    },
    {
      "cell_type": "markdown",
      "source": [
        "### Обобщение проделанной работы и результаты\n",
        "\n",
        "**1. Подготовка данных:**\n",
        "* Загружены трениковочные и тестовые данные.\n",
        "* Удалены ненужные столбцы (`main_photo`, `stratify_column`).\n",
        "* Обработаны пропуски в категориальных признаках путем их удаления. Это привело к потере около 42% данных, что является значительным объемом. В качестве альтернативы можно было бы заменить пропуски на 'unknown', что позволило бы сохранить больше данных для обучения.\n",
        "* Текстовые данные из столбца `name` были векторизованы с помощью TF-IDF, чтобы преобразовать их в числовые признаки.\n",
        "\n",
        "**2. Построение моделей:**\n",
        "* **Модель 1 (бинарная классификация):** Была построена модель для определения, является ли указанный `type` правильным (target = 1) или нет (target = 0).\n",
        "* **Модель 2 (многоклассовая классификация):** Для случаев, когда первая модель предсказывает неверный `type`, была построена вторая модель для рекомендации наиболее вероятных `type`.\n",
        "    * Обучение второй модели проводилось только на данных, где `target` был равен 1.\n",
        "    * Для уменьшения количества классов редкие `type` были объединены в один класс 'other'.\n",
        "    * Для уменьшения размерности и ускорения обучения был применен метод главных компонент (PCA).\n",
        "\n",
        "**3. Результаты:**\n",
        "* Точность (Accuracy) на тестовых данных для многоклассовой модели составила ~0.82\n",
        "\n",
        "**4. Что можно улучшить:**\n",
        "* **Обработка пропусков:** Вместо удаления строк с пропусками, можно попробовать заменить их на 'unknown' или использовать другие методы для заполнения пропусков. Это позволит сохранить больше данных для обучения.\n",
        "* **Feature Engineering:** Можно создать больше признаков из существующих данных. Например, можно извлечь бренд из названия товара, создать признаки на основе длины текстовых полей и т.д.\n",
        "* **Подбор гиперпараметров:** Можно провести более тщательный подбор гиперпараметров для моделей, чтобы улучшить их производительность.\n",
        "* **Работа с несбалансированными классами:** В данных может быть дисбаланс классов. Можно использовать методы, такие как взвешивание классов или over/under-sampling, чтобы улучшить качество модели.\n",
        "* **Использование более сложных моделей:** Можно попробовать использовать более сложные модели, такие как нейронные сети, для улучшения качества предсказаний."
      ],
      "metadata": {
        "id": "sQ3wnm94jqEl"
      }
    }
  ],
  "metadata": {
    "kernelspec": {
      "display_name": "Python 3",
      "language": "python",
      "name": "python3"
    },
    "language_info": {
      "codemirror_mode": {
        "name": "ipython",
        "version": 3
      },
      "file_extension": ".py",
      "mimetype": "text/x-python",
      "name": "python",
      "nbconvert_exporter": "python",
      "pygments_lexer": "ipython3",
      "version": "3.12.4"
    },
    "colab": {
      "provenance": []
    }
  },
  "nbformat": 4,
  "nbformat_minor": 0
}